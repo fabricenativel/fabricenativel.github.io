{
 "cells": [
  {
   "cell_type": "markdown",
   "metadata": {},
   "source": [
    "#  <font color=\"darkred\"> &#10070; Fichiers </font>\n",
    "\n",
    "Dans de très nombreuses situations, un programme doit pouvoir récupérer ou écrire des informations dans un fichier. Ce notebook propose de découvrir les fonctions de Python permettant de le faire. \n",
    "Nous utiliserons trois exemples :\n",
    "* le fichier [`informaticiens.txt`](https://fabricenativel.github.io/Premiere/notebook/informaticiens.txt): qui contient une liste d'informaticiens célèbres,\n",
    "* le fichier [`films.txt`](https://fabricenativel.github.io/Premiere/notebook/films.txt) qui contient une liste de films.\n",
    "* le fichier [`test_write.txt`](https://fabricenativel.github.io/Premiere/notebook/test_write.txt) qui n'est pas vide.\n",
    "\n",
    "<font color=\"red\"><strong>Avant de continuer, si vous n'êtes pas dans Capytale, assurez vous d'avoir téléchargé  ces fichiers dans le même répertoire où se trouve ce notebook ! </strong></font>\n",
    "\n",
    "\n",
    "## <font color=\"darkblue\"> &diams; Ouverture d'un fichier en lecture seule</font>\n",
    "\n",
    "Pour ouvrir un fichier, on utilise la fonction **open**. Cette fonction prend comme paramètre le nom du fichier et elle renvoie une  variable  appelée **descripteur de fichier** . Par exemple dans l'instruction suivante :"
   ]
  },
  {
   "cell_type": "code",
   "execution_count": null,
   "metadata": {},
   "outputs": [],
   "source": [
    "desc_informaticiens = open(\"informaticiens.txt\")"
   ]
  },
  {
   "cell_type": "markdown",
   "metadata": {},
   "source": [
    "la variable `desc_informaticiens` est notre descripteur de fichier et nous avons ouvert le fichier ayant pour nom sur le disque dur : \"`informaticiens.txt`\". Il faut comprendre un descripteur de fichier comme un \"*canal de lecture*\" pour accéder à ce fichier.\n",
    "\n",
    "Nous n'avons donné aucun autre paramètre à `open`, le fichier sera donc ouvert en <font color='red'> lecture seule </font>, c'est à dire qu'on ne prévoit pas d'y écrire !"
   ]
  },
  {
   "cell_type": "markdown",
   "metadata": {},
   "source": [
    "<div class=\"alert alert-block alert-info\"><b>&#9889; A retenir : </b><ul>\n",
    "    <li> La fonction  <code><b>open</b></code> permet d'ouvrir un fichier présent dans le répertoire courant\n",
    "    <li> Cette fonction prend comme paramètre le <i>nom du fichier</i> et retourne un <b>descripteur de fichier</b>\n",
    "    </ul> </div>"
   ]
  },
  {
   "cell_type": "markdown",
   "metadata": {},
   "source": [
    "Remarquons qu'essayer d'ouvrir un fichier qui n'existe pas sur l'ordinateur renverra bien sur une erreur :"
   ]
  },
  {
   "cell_type": "code",
   "execution_count": null,
   "metadata": {},
   "outputs": [],
   "source": [
    "erreur = open(\"toto.txt\")"
   ]
  },
  {
   "cell_type": "markdown",
   "metadata": {},
   "source": [
    "Dans une instruction `open`, on peut préciser l'encodage des caractères à l'aide de `encoding=`. Les fichiers utilisés sont encodés en `utf-8`. C'est la valeur par défaut, il sera donc inutile de préciser l'encodage sauf  indication contraire."
   ]
  },
  {
   "cell_type": "markdown",
   "metadata": {},
   "source": [
    "\n",
    "## <font color=\"darkblue\"> &diams; Lecture de données dans un fichier</font>"
   ]
  },
  {
   "cell_type": "markdown",
   "metadata": {},
   "source": [
    "En executant l'instruction `informaticiens = open(\"informaticiens.txt\")` de la partie précédente, nous avons donc crée un descripteur de fichiers. Pour lire des données dans ces fichiers, il faut appeler la fonction `read` de Python sur ce descripteur."
   ]
  },
  {
   "cell_type": "code",
   "execution_count": null,
   "metadata": {},
   "outputs": [],
   "source": [
    "contenu_info = desc_informaticiens.read()"
   ]
  },
  {
   "cell_type": "code",
   "execution_count": null,
   "metadata": {},
   "outputs": [],
   "source": [
    "print(contenu_info)"
   ]
  },
  {
   "cell_type": "markdown",
   "metadata": {},
   "source": [
    "Comme vous pouvez le constater, la fonction `read` lit la **totalité** du fichier en une seule fois ! \n",
    "D'autre part, une fois le fichier lu tout se passe comme si le descripteur de fichier `desc_informaticiens` était arrivé à la fin du fichier, ainsi une deuxième lecture du fichier ne retournera plus aucune donnée (la fin de fichier est déjà atteinte)."
   ]
  },
  {
   "cell_type": "code",
   "execution_count": null,
   "metadata": {},
   "outputs": [],
   "source": [
    "deuxieme_lecture = desc_informaticiens.read()\n",
    "print(deuxieme_lecture)"
   ]
  },
  {
   "cell_type": "markdown",
   "metadata": {},
   "source": [
    "La variable `deuxieme_lecture` est vide le descripteur de fichier étant positionné \"à la fin\" il n'y a plus d'informations à lire."
   ]
  },
  {
   "cell_type": "markdown",
   "metadata": {},
   "source": [
    "<div class=\"alert alert-block alert-info\"><b>&#9889; A retenir : </b><ul>\n",
    "    <li> La fonction  <code><b>read</b></code> permet de lire la <b>totalité</b> d'un fichier ouvert par <code>open</code>\n",
    "    <li> Après lecture le descripteur de fichier est positionné en fin de fichier, il n'y a plus d'informations à lire.\n",
    "    </ul> </div>"
   ]
  },
  {
   "cell_type": "markdown",
   "metadata": {},
   "source": [
    "## <font color=green> &#9998; Exercices </font>\n",
    "1. <font color=green> En utilisant Python, ouvrir le fichier <code>films.txt</code></font>\n",
    "2. <font color=green> Lire et afficher le contenu de ce fichier</font>"
   ]
  },
  {
   "cell_type": "code",
   "execution_count": null,
   "metadata": {},
   "outputs": [],
   "source": [
    "# Votre programme ici\n"
   ]
  },
  {
   "cell_type": "markdown",
   "metadata": {},
   "source": [
    "## <font color=\"darkblue\"> &diams; Fermeture d'un fichier </font>"
   ]
  },
  {
   "cell_type": "markdown",
   "metadata": {},
   "source": [
    "Une bonne pratique de programmation consiste à fermer un fichier après l'avoir utilisé. C'est le rôle de l'instruction `close` :"
   ]
  },
  {
   "cell_type": "code",
   "execution_count": null,
   "metadata": {},
   "outputs": [],
   "source": [
    "informaticiens.close()"
   ]
  },
  {
   "cell_type": "markdown",
   "metadata": {},
   "source": [
    "<div class=\"alert alert-block alert-info\"><b>&#9889; A retenir : </b> Il faut toujours refermer un fichier à l'aide de la fonction <code>close</code> après l'avoir utilisé</div>"
   ]
  },
  {
   "cell_type": "markdown",
   "metadata": {},
   "source": [
    "## <font color=green> &#9998; Exercices </font>\n",
    "3. <font color=green> Fermer le fichier films.txt ouvert dans l'exercice précédent</font>"
   ]
  },
  {
   "cell_type": "code",
   "execution_count": null,
   "metadata": {},
   "outputs": [],
   "source": [
    "# Taper vos instructions ici\n"
   ]
  },
  {
   "cell_type": "markdown",
   "metadata": {},
   "source": [
    "## <font color=\"darkblue\"> &diams; Lecture d'un fichier ligne par ligne </font>"
   ]
  },
  {
   "cell_type": "markdown",
   "metadata": {},
   "source": [
    "Au lieu de lire la totalité d'un fichier en une seule fois, il peut être préférable de le lire, ligne par ligne, c'est le rôle de l'instruction `readline` qui lit une seule ligne du fichier et positionne le \"pointeur\" de lecture sur la ligne suivante. Par exemple si nous voulons lire simplement les deux premières lignes du fichiers *informaticiens.txt* :"
   ]
  },
  {
   "cell_type": "code",
   "execution_count": null,
   "metadata": {
    "scrolled": false
   },
   "outputs": [],
   "source": [
    "# Ouverture du fichier\n",
    "liste_info = open(\"informaticiens.txt\")\n",
    "# Lecture de la première ligne \n",
    "ligne1 = liste_info.readline()\n",
    "# le pointeur de lecture est positionné à la ligne suivante, un autre appel à readline lira donc la 2e ligne\n",
    "ligne2 = liste_info.readline()\n",
    "# Lecture terminée on ferme le fichier\n",
    "liste_info.close()\n",
    "print(ligne1)\n",
    "print(ligne2)"
   ]
  },
  {
   "cell_type": "markdown",
   "metadata": {},
   "source": [
    "Lorsqu'on atteint la fin du fichier `readline` retournera une chaine de caractère vide, par exemple si nous voulons rechercher BOOLE dans notre liste nous pouvons lire les lignes successivement dans une boucle `while`"
   ]
  },
  {
   "cell_type": "code",
   "execution_count": null,
   "metadata": {},
   "outputs": [],
   "source": [
    "liste_info = open(\"informaticiens.txt\")\n",
    "# on initialise ligne avec une chaine non vide \n",
    "ligne=\"  \"\n",
    "# boucle de parcours des lignes du fichier tant qu'on ne trouve pas BOOLE et que la fin n'est pas atteinte\n",
    "while ligne!=\"\" and \"BOOLE\" not in ligne:\n",
    "    ligne=liste_info.readline()\n",
    "print(ligne)\n",
    "liste_info.close()"
   ]
  },
  {
   "cell_type": "markdown",
   "metadata": {},
   "source": [
    "<font color=red><b>Remarque importante</b></font> : le descripteur de fichier peut s'utiliser dans une boucle <code>for</code>. Par exemple, si nous voulons rechercher <code>VON NEUMANN</code> dans notre fichier d'informaticiens, une solution possible est :"
   ]
  },
  {
   "cell_type": "code",
   "execution_count": null,
   "metadata": {},
   "outputs": [],
   "source": [
    "liste_info = open(\"informaticiens.txt\")\n",
    "# boucle de parcours des lignes du fichier\n",
    "for ligne in liste_info:\n",
    "    if \"VON NEUMANN\" in ligne:\n",
    "        print(ligne)\n",
    "liste_info.close()"
   ]
  },
  {
   "cell_type": "markdown",
   "metadata": {},
   "source": [
    "## <font color=green> &#9998; Exercices </font>\n",
    "4. <font color=green> <b>En utilisant une boucle for</b> lire chaque ligne du fichiers <i>films.txt</i> et lest stocker au fur et à mesure dans une liste <code>liste_films</code>  </font>"
   ]
  },
  {
   "cell_type": "code",
   "execution_count": null,
   "metadata": {},
   "outputs": [],
   "source": [
    "# Votre programme ici\n",
    "\n",
    "    "
   ]
  },
  {
   "cell_type": "markdown",
   "metadata": {},
   "source": [
    "*Remarque* : le caractère `\\n` qui apparaît à la fin de chaque film est le saut de ligne présent dans le fichier. Pour l'enlever on peut utiliser `strip()`"
   ]
  },
  {
   "cell_type": "markdown",
   "metadata": {},
   "source": [
    "## <font color=\"darkblue\"> &diams; Ouverture de fichiers en écriture</font>\n",
    "\n",
    "Pour écrire dans un fichier, il faut l'ouvrir en mode **\"w\"** pour **write**, si le fichier n'existe pas sur le disque dur, il sera automatiquement crée !\n",
    "\n",
    "<font size=+1 color=red> Attention </font> Si le fichier existe déjà tout son contenu sera alors effacé !!! \n",
    "\n",
    "Vous avez du uploadé le fichier *test_write.txt*, nous allons l'ouvrir pour le lire et vérifier qu'il n'est pas vide :"
   ]
  },
  {
   "cell_type": "code",
   "execution_count": null,
   "metadata": {},
   "outputs": [],
   "source": [
    "test_w = open(\"test_write.txt\")\n",
    "contenu = test_w.read()\n",
    "test_w.close()\n",
    "print(contenu)"
   ]
  },
  {
   "cell_type": "markdown",
   "metadata": {},
   "source": [
    "Essayons maintenant d'ouvrir ce fichier en écriture **c'est à dire en ajoutant le paramètre \"w\"** à la fonction open puis de le refermer :"
   ]
  },
  {
   "cell_type": "code",
   "execution_count": null,
   "metadata": {},
   "outputs": [],
   "source": [
    "test_w = open(\"test_write.txt\",\"w\")\n",
    "test_w.close()"
   ]
  },
  {
   "cell_type": "markdown",
   "metadata": {},
   "source": [
    "Ouvrez le fichier pour constater qu'il est vide !"
   ]
  },
  {
   "cell_type": "markdown",
   "metadata": {},
   "source": [
    "Sans surprise, la fonction permettant d'écrire dans un fichier est **write**, à titre d'exemple, nous allons ouvrir un fichier qui n'existe pas encore sur le disque dur **prenoms.txt** et y écrire quelques prénoms :"
   ]
  },
  {
   "cell_type": "code",
   "execution_count": null,
   "metadata": {},
   "outputs": [],
   "source": [
    "fichier_prenoms = open(\"prenoms.txt\",\"w\")\n",
    "fichier_prenoms.write(\"Alice\")\n",
    "fichier_prenoms.write(\"John\")\n",
    "fichier_prenoms.write(\"Billy\")\n",
    "fichier_prenoms.close()"
   ]
  },
  {
   "cell_type": "markdown",
   "metadata": {},
   "source": [
    "Vérifions que tout se passe bien en affichant maintenant le contenu du fichier :"
   ]
  },
  {
   "cell_type": "code",
   "execution_count": null,
   "metadata": {},
   "outputs": [],
   "source": [
    "fichier_prenoms = open(\"prenoms.txt\")\n",
    "contenu = fichier_prenoms.read()\n",
    "fichier_prenoms.close()\n",
    "print(contenu)"
   ]
  },
  {
   "cell_type": "markdown",
   "metadata": {},
   "source": [
    "Vous constatez qu'il **n'y a pas de passage à la ligne**, pour passer à la ligne lorsqu'on écrit dans un fichier il faut écrire le caractère spécial `\\n`. Corrigeons notre programme initial en rajoutant les passages à la ligne"
   ]
  },
  {
   "cell_type": "code",
   "execution_count": null,
   "metadata": {},
   "outputs": [],
   "source": [
    "fichier_prenoms = open(\"prenoms.txt\",\"w\")\n",
    "fichier_prenoms.write(\"Alice\\n\")\n",
    "fichier_prenoms.write(\"John\\n\")\n",
    "fichier_prenoms.write(\"Billy\\n\")\n",
    "fichier_prenoms.close()"
   ]
  },
  {
   "cell_type": "markdown",
   "metadata": {},
   "source": [
    "## <font color=green> &#9998; Exercices </font>\n",
    "4. <font color=green> En utilisant Python, créer un fichier <i>\"courses.txt\"</i>, y écrire sur des lignes différentes : sel, poivre, pommes, riz, céréales. </font>"
   ]
  },
  {
   "cell_type": "code",
   "execution_count": null,
   "metadata": {},
   "outputs": [],
   "source": [
    "# Taper votre code ici\n"
   ]
  },
  {
   "cell_type": "markdown",
   "metadata": {},
   "source": [
    "## <font color=\"darkblue\"> &diams; Ouverture de fichiers en mode ajout</font>\n"
   ]
  },
  {
   "cell_type": "markdown",
   "metadata": {},
   "source": [
    "Le dernier mode d'ouverture de fichier que nous allons voir est le mode **ajout** (**append** en anglais), c'est le mode \"a\". Le fichier est alors ouvert en écriture mais n'est **pas effacé**, le pointeur d'écriture est simplement positionné à la fin du fichier sans effacer les données qui s'y trouvent déjà.\n",
    "Par exemple, si nous voulons ajouter un quatrième prénom à notre liste de prénoms :"
   ]
  },
  {
   "cell_type": "code",
   "execution_count": null,
   "metadata": {},
   "outputs": [],
   "source": [
    "fichier_prenoms = open(\"prenoms.txt\",\"a\")\n",
    "fichier_prenoms.write(\"Jacques\\n\")\n",
    "fichier_prenoms.close()"
   ]
  },
  {
   "cell_type": "markdown",
   "metadata": {},
   "source": [
    "## <font color=green> &#9998; Exercices </font>\n",
    "5. <font color=green> Ouvrir le fichier <i>\"prenoms.txt\"</i> en lecture seule, vérifier qu'il contient bien les 4 prénoms en faisant afficher son contenu </font>\n",
    "6. <font color=green> Ouvrir le fichier <i>\"courses.txt\"</i> en mode ajout, y ajouter \"olives\", \"beurre\" et \"lait\". "
   ]
  },
  {
   "cell_type": "code",
   "execution_count": null,
   "metadata": {},
   "outputs": [],
   "source": [
    "# Taper votre code ici\n"
   ]
  }
 ],
 "metadata": {
  "kernelspec": {
   "display_name": "Python 3",
   "language": "python",
   "name": "python3"
  },
  "language_info": {
   "codemirror_mode": {
    "name": "ipython",
    "version": 3
   },
   "file_extension": ".py",
   "mimetype": "text/x-python",
   "name": "python",
   "nbconvert_exporter": "python",
   "pygments_lexer": "ipython3",
   "version": "3.10.6"
  }
 },
 "nbformat": 4,
 "nbformat_minor": 2
}
