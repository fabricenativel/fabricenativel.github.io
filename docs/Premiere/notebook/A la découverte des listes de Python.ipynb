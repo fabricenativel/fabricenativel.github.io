{
 "cells": [
  {
   "cell_type": "markdown",
   "metadata": {},
   "source": [
    "#  <font color=\"darkred\"> &#10070; Les listes </font>\n",
    "\n",
    "\n",
    "## <font color=\"darkblue\"> &diams; A la découverte des listes </font>\n",
    "\n",
    "Supposons qu'on veuille écrire un programme gérant une liste de courses à faire, on ne sait pas combien d'éléments sont présents dans cette liste de courses. Bien sûr, on pourrait écrire quelque chose comme :"
   ]
  },
  {
   "cell_type": "code",
   "execution_count": 1,
   "metadata": {},
   "outputs": [],
   "source": [
    "# Une liste de courses ...\n",
    "item1 = \"oignons\"\n",
    "item2 = \"huile\"\n",
    "item3 = \"sel\"\n",
    "item4 = \"chips\"\n",
    "item5 = \"orange\""
   ]
  },
  {
   "cell_type": "markdown",
   "metadata": {},
   "source": [
    "Cette solution n'est pas satisfaisante, en effet, si la liste contient plus de 5 items, il faudrait éditer le programme et y créer une variable `item6`.\n",
    "De façon générale, on aimerait :\n",
    "* ajouter facilement un élément à cette liste ?\n",
    "* en enlever un \n",
    "* savoir rapidement si un élément est présent ou non dans la liste ?\n",
    "* avoir le nombre d'éléments présents dans la liste, ...\n",
    "\n",
    "Une solution bien plus intéressante est d'utiliser une <font color=red><b>liste de Python</b></font>. Comme son nom l'indique, il s'agit d'une variable pouvant contenir plusieurs valeurs. Elle se note entre crochets (caractère **[** et **]**) et les valeurs qu'elle contient son séparés par des virgules."
   ]
  },
  {
   "cell_type": "code",
   "execution_count": 2,
   "metadata": {},
   "outputs": [],
   "source": [
    "courses=['oignons','huile','sel','chips','orange']"
   ]
  },
  {
   "cell_type": "markdown",
   "metadata": {},
   "source": [
    "Nous venons de créer une variable de type **list** qui représente notre liste de courses. Cette représentation est bien plus efficace que la précédente car nous allons découvrir que l'accès, l'ajout, l'insertion, la suppression d'un élément de cette liste se fait facilement en Python"
   ]
  },
  {
   "cell_type": "markdown",
   "metadata": {},
   "source": [
    "<div class=\"alert alert-block alert-info\">\n",
    "<b>&#9889; A retenir : </b> <ul>\n",
    "    <li> Une <b>liste</b> est une variable contenant plusieurs valeurs\n",
    "    <li> Les valeurs sont séparées par des virgules\n",
    "    <li> Pour créer une liste on utilise la syntaxe : <br>\n",
    "        <code> la_liste  = [valeur1 , valeur2, valeur3, ...] </code>\n",
    "    </ul>\n",
    "            "
   ]
  },
  {
   "cell_type": "markdown",
   "metadata": {},
   "source": [
    "## <font color=green> &#9998; Exercices </font>\n",
    "1. <font color=green> Créer une liste <code>specialites</code> contenant les noms de vos trois enseignements de spécialité </font>"
   ]
  },
  {
   "cell_type": "code",
   "execution_count": null,
   "metadata": {},
   "outputs": [],
   "source": [
    "# Votre réponses ici\n"
   ]
  },
  {
   "cell_type": "markdown",
   "metadata": {},
   "source": [
    "2. <font color=green> Créer une liste <code>temperatures</code> contenant les valeurs numériques suivantes : 27, 18, 32, 29, 27, 27 et 28"
   ]
  },
  {
   "cell_type": "code",
   "execution_count": null,
   "metadata": {},
   "outputs": [],
   "source": [
    "# Votre réponse ici\n"
   ]
  },
  {
   "cell_type": "markdown",
   "metadata": {},
   "source": [
    "On a crée jusqu'ici, des listes de chaines de caractères et des listes de nombres, on peut tout à fait mélanger les deux, et les éléments d'une liste ne sont donc pas forcément du même type :"
   ]
  },
  {
   "cell_type": "code",
   "execution_count": 3,
   "metadata": {},
   "outputs": [],
   "source": [
    "une_date = [5,\"Mars\",1953]"
   ]
  },
  {
   "cell_type": "markdown",
   "metadata": {},
   "source": [
    "Sur cet exemple le premier et le dernier élément de la liste sont des entiers (`int`), mais l'élément du milieu est une chaine de caractère (`str`)"
   ]
  },
  {
   "cell_type": "markdown",
   "metadata": {},
   "source": [
    "##  <font color=\"darkblue\"> &diams; Accéder aux valeurs d'une liste </font>"
   ]
  },
  {
   "cell_type": "markdown",
   "metadata": {},
   "source": [
    "Les valeurs stockées dans une liste sont **numérotées à partir de 0** et on peut accéder aux valeurs par leur numéro en utilisant la syntaxe suivante : \n",
    "\n",
    "<code> <b>&lt;liste&gt;[numero]</b> </code><br>\n",
    "\n",
    "Reprenons l'exemple de notre liste de courses :"
   ]
  },
  {
   "cell_type": "code",
   "execution_count": 4,
   "metadata": {},
   "outputs": [],
   "source": [
    "courses=['oignons','huile','sel','chips','orange']"
   ]
  },
  {
   "cell_type": "markdown",
   "metadata": {},
   "source": [
    "Pour afficher le **deuxième** élément de la liste, on peut donc écrire :"
   ]
  },
  {
   "cell_type": "code",
   "execution_count": 5,
   "metadata": {},
   "outputs": [
    {
     "data": {
      "text/plain": [
       "'huile'"
      ]
     },
     "execution_count": 5,
     "metadata": {},
     "output_type": "execute_result"
    }
   ],
   "source": [
    "courses[1]"
   ]
  },
  {
   "cell_type": "markdown",
   "metadata": {},
   "source": [
    "La figure ci-dessous illustre le fonctionnement des listes de Python :"
   ]
  },
  {
   "attachments": {
    "liste_courses.png": {
     "image/png": "[encoded data removed]"
    }
   },
   "cell_type": "markdown",
   "metadata": {},
   "source": [
    "![liste_courses.png](attachment:liste_courses.png)"
   ]
  },
  {
   "cell_type": "markdown",
   "metadata": {},
   "source": [
    "Retenez bien la syntaxe, on indique le nom de la liste puis l'indice de l'élément <b><font color=red>entre crochets</font></b>"
   ]
  },
  {
   "cell_type": "markdown",
   "metadata": {},
   "source": [
    "Attention cependant à ne pas dépasser le nombre d'éléments de la liste, sinon Python renverra une erreur :"
   ]
  },
  {
   "cell_type": "code",
   "execution_count": 6,
   "metadata": {},
   "outputs": [
    {
     "name": "stderr",
     "output_type": "stream",
     "text": [
      "Traceback (most recent call last):\n",
      "  File \"<input>\", line 1, in <module>\n",
      "IndexError: list index out of range\n"
     ]
    }
   ],
   "source": [
    "courses[5]"
   ]
  },
  {
   "cell_type": "markdown",
   "metadata": {},
   "source": [
    "Notez bien le nom de l'erreur : **IndexError** pour savoir ce qu'elle signifie lorsque vous la rencontrerez."
   ]
  },
  {
   "cell_type": "markdown",
   "metadata": {},
   "source": [
    "On peut accéder aux éléments d'une liste *à partir de la fin* en utilisant des numéros négatifs : \n",
    "* `ma_liste[-1]` sera le dernier élement de  `ma_liste`\n",
    "* `ma_liste[-2]` sera l'avant dernier \n",
    "* etc ...\n",
    "\n",
    "Donc pour afficher le dernier élément de la liste de courses (c'est à dire Orange) :"
   ]
  },
  {
   "cell_type": "code",
   "execution_count": null,
   "metadata": {},
   "outputs": [],
   "source": [
    "courses[-1]"
   ]
  },
  {
   "cell_type": "markdown",
   "metadata": {},
   "source": [
    "<div class=\"alert alert-block alert-info\"><b>&#9889; A retenir : </b> <ul>\n",
    "    <li> On peut accéder aux éléments d'une liste par leur numéro avec <code>&lt;liste&gt;[numero]</code>\n",
    "    <li> Attention, la numérotation commence à <b>0</b>. Le premier élément de <code>ma_liste</code> est donc <code>ma_liste[0]</code>\n",
    "    <li> On peut accéder aux éléments <i>à partir de la fin</i> en utilisant des numéros négatifs.\n",
    "    <li> Tenter d'accéder à un indice d'élément inexistant renvoie un <font color=\"red\">IndexError</font>.\n",
    "    </ul> </div>"
   ]
  },
  {
   "cell_type": "markdown",
   "metadata": {},
   "source": [
    "## <font color=green> &#9998; Exercices </font>\n",
    "3. <font color=green> Afficher l'élément d'indice 3 de la liste de courses</font>"
   ]
  },
  {
   "cell_type": "code",
   "execution_count": null,
   "metadata": {},
   "outputs": [],
   "source": [
    "# Votre réponse ici\n"
   ]
  },
  {
   "cell_type": "markdown",
   "metadata": {},
   "source": [
    "4. <font color=green> Créer la liste des sept jours de la semaine, en commençant par le lundi. On appelle cette liste <code>semaine</code></font>"
   ]
  },
  {
   "cell_type": "code",
   "execution_count": null,
   "metadata": {},
   "outputs": [],
   "source": [
    "# Votre réponse ici\n"
   ]
  },
  {
   "cell_type": "markdown",
   "metadata": {},
   "source": [
    "5. <font color=green> Faire afficher de <i>deux façons différentes</i> le dernier jour de la liste <code>semaine</code> crée ci-dessus</font>"
   ]
  },
  {
   "cell_type": "code",
   "execution_count": null,
   "metadata": {},
   "outputs": [],
   "source": [
    "# Votre réponse ici\n"
   ]
  },
  {
   "cell_type": "markdown",
   "metadata": {},
   "source": [
    "6. <font color=green> Compléter le code ci-dessous afin de récupérer dans <code>jour, mois</code> et <code>annee</code> les éléments correspondant de la liste <code>une_date</code></font>"
   ]
  },
  {
   "cell_type": "code",
   "execution_count": null,
   "metadata": {},
   "outputs": [],
   "source": [
    "une_date = [5,\"Mars\",1953]\n",
    "jour = _________\n",
    "mois = _________\n",
    "annee = ________"
   ]
  },
  {
   "cell_type": "markdown",
   "metadata": {},
   "source": [
    "##  <font color=\"darkblue\"> &diams; Déterminer le nombre d'éléments d'une liste </font>\n",
    "\n",
    "Nous avons déjà rencontré la fonction <code>len</code> qui donne la longueur d'une chaîne de caractères. C'est exactement la même instruction qui permet de déterminer le nombre d'éléments d'une liste :"
   ]
  },
  {
   "cell_type": "code",
   "execution_count": 7,
   "metadata": {
    "scrolled": false
   },
   "outputs": [
    {
     "data": {
      "text/plain": [
       "5"
      ]
     },
     "execution_count": 7,
     "metadata": {},
     "output_type": "execute_result"
    }
   ],
   "source": [
    "len(courses)"
   ]
  },
  {
   "cell_type": "markdown",
   "metadata": {},
   "source": [
    "Il y a donc 5 choses à acheter dans notre liste de courses !"
   ]
  },
  {
   "cell_type": "markdown",
   "metadata": {},
   "source": [
    "<div class=\"alert alert-block alert-info\"><b>&#9889; A retenir : </b> <br>\n",
    "    la fonction <code>len</code> renvoie la longueur de la liste passée en paramètre. Par exemple <code>len([\"N\",\"S\",\"I\"])</code> renvoie 3 car cette liste contient trois éléments.\n",
    "    </div>"
   ]
  },
  {
   "cell_type": "markdown",
   "metadata": {},
   "source": [
    "## <font color=green> &#9998; Exercices </font>\n",
    "7. <font color=green> Dans la cellule ci-dessous, on a définit une liste <code>alphabet</code>, ajouter l'instruction permettant de vérifier qu'il y a bien 26 caractères dans cette liste </font>"
   ]
  },
  {
   "cell_type": "code",
   "execution_count": null,
   "metadata": {},
   "outputs": [],
   "source": [
    "# Votre réponse ici\n",
    "alphabet=['a','b','c','d','e','f','g','h','i','j','k','l','m','n','o','p','q','r','s','t','u','v','w','x','y','z']\n"
   ]
  },
  {
   "cell_type": "markdown",
   "metadata": {},
   "source": [
    "8. <font color=green> Trouver deux façons différentes d'afficher l'avant avant dernière lettre de l'alphabet (c'est à dire le x) </font>"
   ]
  },
  {
   "cell_type": "code",
   "execution_count": null,
   "metadata": {},
   "outputs": [],
   "source": [
    "# Votre réponse ici\n"
   ]
  },
  {
   "cell_type": "markdown",
   "metadata": {},
   "source": [
    "9. <font color=green> Vérifier que <code>alphabet[26]</code> renvoie une erreur. Expliquer pourquoi </font>"
   ]
  },
  {
   "cell_type": "code",
   "execution_count": null,
   "metadata": {},
   "outputs": [],
   "source": [
    "# Votre réponse ici\n"
   ]
  },
  {
   "cell_type": "markdown",
   "metadata": {},
   "source": [
    "## <font color=\"darkblue\"> &diams; Modifier un élément dans la liste </font>\n",
    "\n",
    "Les listes sont **modifiables**. On peut par exemple changer un élément de notre  liste en le repérant par son numéro. Dans notre exemple, `courses[3]` est chips, si nous voulons remplacer les chips par des olives dans notre liste de courses, nous pouvons simplement utiliser l'affectation habituelle avec `=` :"
   ]
  },
  {
   "cell_type": "code",
   "execution_count": 8,
   "metadata": {
    "scrolled": true
   },
   "outputs": [
    {
     "data": {
      "text/plain": [
       "['oignons', 'huile', 'sel', 'olives', 'orange']"
      ]
     },
     "execution_count": 8,
     "metadata": {},
     "output_type": "execute_result"
    }
   ],
   "source": [
    "courses[3] = 'olives'\n",
    "courses"
   ]
  },
  {
   "cell_type": "markdown",
   "metadata": {},
   "source": [
    "## <font color=green> &#9998; Exercices </font>\n",
    "10. <font color=green> Dans la liste de courses ci-dessus, remplacer le sel par du poivre </font>"
   ]
  },
  {
   "cell_type": "code",
   "execution_count": null,
   "metadata": {},
   "outputs": [],
   "source": [
    "# Votre réponse ici\n"
   ]
  },
  {
   "cell_type": "markdown",
   "metadata": {},
   "source": [
    "## <font color=\"darkblue\"> &diams; Ajouter ou supprimer un élément dans la liste </font>\n",
    "\n",
    "On peut aussi  rajouter un élément à cette liste de courses grâce à `append`"
   ]
  },
  {
   "cell_type": "code",
   "execution_count": null,
   "metadata": {},
   "outputs": [],
   "source": [
    "# Il faut prendre aussi du persil !\n",
    "courses.append('persil')"
   ]
  },
  {
   "cell_type": "markdown",
   "metadata": {},
   "source": [
    "Affichons la liste avec print pour constater que le persil y figure maintenant :"
   ]
  },
  {
   "cell_type": "code",
   "execution_count": null,
   "metadata": {},
   "outputs": [],
   "source": [
    "courses"
   ]
  },
  {
   "cell_type": "markdown",
   "metadata": {},
   "source": [
    "Et bien evidemment on peut supprimer un élément de cette liste grâce à `remove`"
   ]
  },
  {
   "cell_type": "code",
   "execution_count": null,
   "metadata": {},
   "outputs": [],
   "source": [
    "#En fait ce n'est pas la peine de prendre du sel\n",
    "courses.remove(\"sel\")\n",
    "courses"
   ]
  },
  {
   "cell_type": "markdown",
   "metadata": {},
   "source": [
    "**Attention** : essayer de supprimer un élément qui ne figure pas dans la liste renverra une erreur."
   ]
  },
  {
   "cell_type": "code",
   "execution_count": 9,
   "metadata": {},
   "outputs": [
    {
     "name": "stderr",
     "output_type": "stream",
     "text": [
      "Traceback (most recent call last):\n",
      "  File \"<input>\", line 2, in <module>\n",
      "ValueError: list.remove(x): x not in list\n"
     ]
    }
   ],
   "source": [
    "# Il n'y a pas de vanille dans notre liste de courses, aussi tenter de l'enlever renverra une erreur\n",
    "courses.remove(\"vanille\")"
   ]
  },
  {
   "cell_type": "markdown",
   "metadata": {},
   "source": [
    "## <font color=green> &#9998; Exercices </font>\n",
    "\n",
    "11. <font color=green> Pour son anniversaire, Alice a invité ses amis : Hector, Paul, Jules, Marie, Pierre, Alphonsine, Dorothée, Eva, Jeannette, Kathy, Carole, et Zoé. . Créer une liste <code>invites</code> représentant les invités d'Alice. </font>\n",
    "12. <font color=green> Finalement, Alice rajoute Christian et Louis à sa liste et decide de ne plus inviter Kathy. Traduire ces modifications par des instructions Python. </font>\n",
    "13. <font color=green> Comment obtenir le nombre d'invités ?</font>"
   ]
  },
  {
   "cell_type": "code",
   "execution_count": null,
   "metadata": {},
   "outputs": [],
   "source": [
    "# Vos réponses ici\n",
    "\n",
    "\n"
   ]
  },
  {
   "cell_type": "markdown",
   "metadata": {},
   "source": [
    "## <font color=\"darkblue\"> &diams; Insertion d'un élément dans la liste </font>"
   ]
  },
  {
   "cell_type": "markdown",
   "metadata": {},
   "source": [
    "Parfois, on aura besoin d'insérer un élément à un emplacement particulier dans la liste, dans ce cas, il faut utiliser `insert` en donnant entre parenthèses l'emplacement où on désire insérer un élément. Par exemple supposons qu'on dispose d'une liste **triée** de notes :"
   ]
  },
  {
   "cell_type": "code",
   "execution_count": null,
   "metadata": {},
   "outputs": [],
   "source": [
    "notes = [8,11,12,15,17]"
   ]
  },
  {
   "cell_type": "markdown",
   "metadata": {},
   "source": [
    "Si on veut insérer dans cette liste la note 14, on doit le faire après le 12 pour conserver l'ordre, il faut donc insérer à l'indice 3 :"
   ]
  },
  {
   "cell_type": "code",
   "execution_count": null,
   "metadata": {},
   "outputs": [],
   "source": [
    "notes.insert(3,14)\n",
    "notes"
   ]
  },
  {
   "cell_type": "markdown",
   "metadata": {},
   "source": [
    "<div class=\"alert alert-block alert-info\"><b>&#9889; A retenir : </b> <ul>\n",
    "    <li> On peut ajouter un élément <b>à la fin</b> d'une liste à l'aide de <code>append</code>, la syntaxe est : <code>&lt;liste&gt;.append(&lt;nouvel_element&gt;)</code>.\n",
    "    <li> On peut supprimer un élément d'une liste à l'aide de <code>remove</code>, la syntaxe est : <code>&lt;liste&gt;.remove(&lt;element&gt;)</code>. Tenter de supprimer un élément à un indice inexistant renvoie une erreur.\n",
    "    <li> On peut insérer un élément dans une liste à l'emplacement souhaité à l'aide de <code>insert</code>, la syntaxe est : <code>&lt;liste&gt;.insert(&lt;indice&gt;,&lt;nouvel_element&gt;)</code>\n",
    "    </ul> </div>"
   ]
  },
  {
   "cell_type": "markdown",
   "metadata": {},
   "source": [
    "## <font color=green> &#9998; Exercices </font>\n",
    "\n",
    "14. <font color=green> On a crée ci-dessous, une liste de meubles, ajouter à cette liste 'table' et 'tabouret' à l'aide de deux utilisation de <code>append</code>."
   ]
  },
  {
   "cell_type": "code",
   "execution_count": null,
   "metadata": {},
   "outputs": [],
   "source": [
    "meubles = [\"armoire\",\"chaise\",\"étagère\",\"bureau\",\"lit\"]\n",
    "# Ecrire les deux append en dessous\n"
   ]
  },
  {
   "cell_type": "markdown",
   "metadata": {},
   "source": [
    "15. <font color=green> Supprimer \"lit\" de cette liste."
   ]
  },
  {
   "cell_type": "code",
   "execution_count": null,
   "metadata": {},
   "outputs": [],
   "source": [
    "# Votre réponse ici\n"
   ]
  },
  {
   "cell_type": "markdown",
   "metadata": {},
   "source": [
    "16. <font color=\"green\"> Créer la liste `a_voir=['Matrix','Starwars','Ironman2']`, insérer 'Ironman' avant 'Ironman2'</font>"
   ]
  },
  {
   "cell_type": "code",
   "execution_count": null,
   "metadata": {},
   "outputs": [],
   "source": [
    "# Votre réponse ici\n"
   ]
  },
  {
   "cell_type": "markdown",
   "metadata": {},
   "source": [
    "17. <font color=\"green\"> A l'aide de <code>remove</code>, supprimer tous les films de la liste <code>a_voir</code>. Que se passe-t-il lorsqu'on affiche maintenant la liste <code>a_voir</code> ?</font>"
   ]
  },
  {
   "cell_type": "code",
   "execution_count": null,
   "metadata": {},
   "outputs": [],
   "source": [
    "# Votre réponse ici\n"
   ]
  },
  {
   "cell_type": "markdown",
   "metadata": {},
   "source": [
    "## <font color=\"darkblue\"> &diams; Prendre un élément dans la liste </font>\n",
    "\n",
    "Pour prendre un élément de la liste par son numéro on dispose de `pop(numero)`, cela a deux effet :\n",
    "* supprimer l'élement figurant à cette position dans la liste\n",
    "* renvoyer cet élément\n",
    "\n",
    "Si on ne demande pas de valeur pour `numero`, c'est le dernier élément de la liste qui sera supprimé et renvoyé."
   ]
  },
  {
   "cell_type": "code",
   "execution_count": 10,
   "metadata": {},
   "outputs": [],
   "source": [
    "# Suppression de l'élément situé au début de la liste et récupération dans 'item'\n",
    "item = courses.pop(0)"
   ]
  },
  {
   "cell_type": "code",
   "execution_count": 11,
   "metadata": {
    "scrolled": true
   },
   "outputs": [
    {
     "data": {
      "text/plain": [
       "'oignons'"
      ]
     },
     "execution_count": 11,
     "metadata": {},
     "output_type": "execute_result"
    }
   ],
   "source": [
    "# Vérifions que tout s'est passé comme prévu (item doit contenir le premier élément de la liste)\n",
    "item"
   ]
  },
  {
   "cell_type": "code",
   "execution_count": 12,
   "metadata": {},
   "outputs": [
    {
     "data": {
      "text/plain": [
       "['huile', 'sel', 'olives', 'orange']"
      ]
     },
     "execution_count": 12,
     "metadata": {},
     "output_type": "execute_result"
    }
   ],
   "source": [
    "# et le premier élément ne figure plus dans la liste\n",
    "courses"
   ]
  },
  {
   "cell_type": "code",
   "execution_count": 13,
   "metadata": {},
   "outputs": [],
   "source": [
    "# Si on ne donne pas de numéro, c'est à dire en faisant courses.pop() c'est le dernier élément qui est concerné\n",
    "item = courses.pop()"
   ]
  },
  {
   "cell_type": "code",
   "execution_count": 14,
   "metadata": {},
   "outputs": [
    {
     "data": {
      "text/plain": [
       "'orange'"
      ]
     },
     "execution_count": 14,
     "metadata": {},
     "output_type": "execute_result"
    }
   ],
   "source": [
    "item"
   ]
  },
  {
   "cell_type": "markdown",
   "metadata": {},
   "source": [
    "<div class=\"alert alert-block alert-info\"><b>&#9889; A retenir : </b> \n",
    "    <code>&lt;ma_liste&gt;.pop(numero)</code> a deux effets <ul>\n",
    "    <li> supprimer de la liste l'élément situé à l'indice <code>numero</code>\n",
    "    <li> renvoyer cet élément.\n",
    "    </ul> \n",
    "    Si le numero n'est pas fourni, c'est le dernier élément de la liste qui est concerné.\n",
    " </div>"
   ]
  },
  {
   "cell_type": "markdown",
   "metadata": {},
   "source": [
    "## <font color=green> &#9998; Exercices </font>\n",
    "\n",
    "18. <font color=green>Créer une liste <code>a_faire</code> contenant les éléments suivants : <code>\"réviser les listes de python\"</code>, <code>\"préparer l'évaluation d'anglais\"</code>, <code>\"travailler le projet de NSI\"</code>, <code>\"Faire l'exercice de maths\"</code></font>\n",
    "\n",
    "19. <font color=green>Ajouter à cet liste les éléments suivants <code>\"regarder ma série préférée\"</code>, <code>\"aller à la plage\"</code>.</font>\n",
    "    \n",
    "20. <font color=green>Quel sera le résultat de l'instruction <code> elt = a_faire.pop()</code> ?</font>"
   ]
  },
  {
   "cell_type": "code",
   "execution_count": 15,
   "metadata": {},
   "outputs": [],
   "source": [
    "# Vos réponses ici\n"
   ]
  }
 ],
 "metadata": {
  "kernelspec": {
   "display_name": "Python 3",
   "language": "python",
   "name": "python3"
  },
  "language_info": {
   "codemirror_mode": {
    "name": "ipython",
    "version": 3
   },
   "file_extension": ".py",
   "mimetype": "text/x-python",
   "name": "python",
   "nbconvert_exporter": "python",
   "pygments_lexer": "ipython3",
   "version": "3.10.4"
  }
 },
 "nbformat": 4,
 "nbformat_minor": 2
}
